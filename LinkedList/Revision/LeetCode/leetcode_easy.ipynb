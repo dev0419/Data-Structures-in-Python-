{
 "cells": [
  {
   "cell_type": "markdown",
   "metadata": {},
   "source": [
    "Reversing LinkedList-1 "
   ]
  },
  {
   "cell_type": "code",
   "execution_count": 1,
   "metadata": {},
   "outputs": [
    {
     "name": "stdout",
     "output_type": "stream",
     "text": [
      "5\n",
      "4\n",
      "3\n",
      "2\n",
      "1\n"
     ]
    }
   ],
   "source": [
    "class Node:\n",
    "    def __init__(self,value):\n",
    "        self.value = value\n",
    "        self.next = None\n",
    "class LinkedList:\n",
    "    def __init__(self,value):\n",
    "        newnode = Node(value)\n",
    "        self.head,self.tail = newnode,newnode\n",
    "        self.length = 1\n",
    "    \n",
    "    def append(self,value):\n",
    "        newnode = Node(value)\n",
    "        if self.head is None:\n",
    "            self.head,self.tail = newnode,newnode\n",
    "        temp = self.head \n",
    "        while temp.next is not None:\n",
    "            temp = temp.next \n",
    "        temp.next = newnode\n",
    "        self.length += 1\n",
    "\n",
    "    def printList(self):\n",
    "        temp = self.head \n",
    "        while temp is not None:\n",
    "            print(temp.value)\n",
    "            temp = temp.next\n",
    "\n",
    "    def reverse(self):\n",
    "        if self.head is None:\n",
    "            return None \n",
    "        prev,temp = None,self.head \n",
    "        while temp is not None:\n",
    "            nxt = temp.next\n",
    "            temp.next = prev \n",
    "            prev = temp \n",
    "            temp = nxt\n",
    "        return prev\n",
    "\n",
    "ll = LinkedList(1)\n",
    "ll.append(2)\n",
    "ll.append(3)\n",
    "ll.append(4)\n",
    "ll.append(5)\n",
    "new_head = ll.reverse()\n",
    "ll.head = new_head\n",
    "ll.printList()  \n",
    "\n",
    "        "
   ]
  },
  {
   "cell_type": "markdown",
   "metadata": {},
   "source": [
    "Merge 2 sorted linked list"
   ]
  },
  {
   "cell_type": "code",
   "execution_count": 6,
   "metadata": {},
   "outputs": [
    {
     "name": "stdout",
     "output_type": "stream",
     "text": [
      "1\n",
      "1\n",
      "2\n",
      "3\n",
      "4\n",
      "4\n"
     ]
    }
   ],
   "source": [
    "class Node:\n",
    "    def __init__(self,value):\n",
    "        self.value = value\n",
    "        self.next = None\n",
    "\n",
    "class LinkedList:\n",
    "    def __init__(self,value):\n",
    "        newnode = Node(value)\n",
    "        self.head,self.tail = newnode,newnode\n",
    "        self.length = 1\n",
    "    \n",
    "    def append(self,value):\n",
    "        newnode = Node(value)\n",
    "        if self.head is None:\n",
    "            self.head,self.tail = newnode,newnode\n",
    "        temp = self.head \n",
    "        while temp.next is not None:\n",
    "            temp = temp.next \n",
    "        temp.next = newnode\n",
    "        self.length += 1\n",
    "    \n",
    "    def printList(self):\n",
    "        temp = self.head \n",
    "        while temp is not None:\n",
    "            print(temp.value)\n",
    "            temp = temp.next\n",
    "\n",
    "def merge_k_sorted_list(l1,l2):\n",
    "    dummy = Node(0)\n",
    "    temp = dummy\n",
    "    while l1 is not None and l2 is not None:\n",
    "        if l1.value < l2.value:\n",
    "            temp.next =  l1\n",
    "            l1 = l1.next\n",
    "        else:\n",
    "            temp.next = l2\n",
    "            l2 = l2.next\n",
    "        temp = temp.next\n",
    "    \n",
    "    if l1 is not None: #if we iterated through l1 and l2 but there are some elements left in l1 \n",
    "        temp.next = l1 \n",
    "    elif l2 is not None: # Same as above \n",
    "        temp.next = l2\n",
    "    return dummy.next  \n",
    "\n",
    "\n",
    "l1 = LinkedList(1)\n",
    "l1.append(3)\n",
    "l1.append(4)\n",
    "l2 = LinkedList(1)\n",
    "l2.append(2)\n",
    "l2.append(4)\n",
    "\n",
    "new_head = merge_k_sorted_list(l1.head,l2.head)\n",
    "while new_head is not None:\n",
    "    print(new_head.value)\n",
    "    new_head = new_head.next\n"
   ]
  },
  {
   "cell_type": "markdown",
   "metadata": {},
   "source": [
    "Linked List Cycle"
   ]
  },
  {
   "cell_type": "code",
   "execution_count": 2,
   "metadata": {},
   "outputs": [
    {
     "name": "stdout",
     "output_type": "stream",
     "text": [
      "True\n"
     ]
    }
   ],
   "source": [
    "class Node:\n",
    "    def __init__(self,value):\n",
    "        self.value = value\n",
    "        self.next = None \n",
    "\n",
    "class LinkedList:\n",
    "    def __init__(self,value):\n",
    "        newnode = Node(value)\n",
    "        self.head,self.tail = newnode,newnode\n",
    "        self.length = 1\n",
    "    \n",
    "    def append(self,value):\n",
    "        newnode = Node(value)\n",
    "        if self.head is None:\n",
    "            self.head,self.tail = newnode,newnode\n",
    "        temp = self.head \n",
    "        while temp.next is not None:\n",
    "            temp = temp.next \n",
    "        temp.next = newnode\n",
    "        self.length += 1\n",
    "\n",
    "    def printList(self):\n",
    "        temp = self.head \n",
    "        while temp is not None:\n",
    "            print(temp.value)\n",
    "            temp = temp.next\n",
    "\n",
    "    def hasCycle(self):\n",
    "        slow,fast = self.head,self.head\n",
    "        while fast and fast.next is not None:\n",
    "            slow = slow.next\n",
    "            fast = fast.next.next \n",
    "            if slow == fast:\n",
    "                return True\n",
    "        return False\n",
    "\n",
    "ll = LinkedList(1)\n",
    "ll.append(2)\n",
    "ll.append(3)\n",
    "ll.append(4)\n",
    "ll.tail.next = ll.head \n",
    "print(ll.hasCycle()) "
   ]
  }
 ],
 "metadata": {
  "kernelspec": {
   "display_name": "Python 3",
   "language": "python",
   "name": "python3"
  },
  "language_info": {
   "codemirror_mode": {
    "name": "ipython",
    "version": 3
   },
   "file_extension": ".py",
   "mimetype": "text/x-python",
   "name": "python",
   "nbconvert_exporter": "python",
   "pygments_lexer": "ipython3",
   "version": "3.10.11"
  }
 },
 "nbformat": 4,
 "nbformat_minor": 2
}
