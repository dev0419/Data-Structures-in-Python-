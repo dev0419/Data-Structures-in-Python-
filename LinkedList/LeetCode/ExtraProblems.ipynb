{
 "cells": [
  {
   "cell_type": "code",
   "execution_count": null,
   "metadata": {},
   "outputs": [],
   "source": [
    "#Find the duplicate Number \n",
    "#Floyds cycle detection algorithm \n",
    "'''There is only one repeated number in nums, return this repeated number.\n",
    "\n",
    "You must solve the problem without modifying the array nums and uses only constant extra space.\n",
    "Example 1:\n",
    "\n",
    "Input: nums = [1,3,4,2,2]\n",
    "Output: 2\n",
    "Example 2:\n",
    "\n",
    "Input: nums = [3,1,3,4,2]\n",
    "Output: 3'''"
   ]
  },
  {
   "cell_type": "code",
   "execution_count": 3,
   "metadata": {},
   "outputs": [
    {
     "name": "stdout",
     "output_type": "stream",
     "text": [
      "2\n"
     ]
    }
   ],
   "source": [
    "class Node:\n",
    "    def __init__(self,value):\n",
    "        self.value = value\n",
    "        self.next = None\n",
    "\n",
    "class LinkedList:\n",
    "    def __init__(self,value):\n",
    "        newnode = Node(value)\n",
    "        self.head,self.tail = newnode,newnode \n",
    "    \n",
    "    def append(self,value):\n",
    "        newnode = Node(value)\n",
    "        if self.head is None:\n",
    "            self.head,self.tail = newnode,newnode \n",
    "        self.tail.next = newnode\n",
    "        self.tail = newnode        \n",
    "    \n",
    "    def print_list(self):\n",
    "        temp = self.head \n",
    "        while temp is not None:\n",
    "            print(temp.value)\n",
    "            temp = temp.next\n",
    "    \n",
    "def findDuplicate(nums):\n",
    "        slow,fast = 0,0 #Fast and slow intersect initially\n",
    "        while True: \n",
    "            slow = nums[slow]\n",
    "            fast = nums[nums[fast]]\n",
    "            if slow == fast: #first intersection point \n",
    "                break\n",
    "\n",
    "            slow2 = 0\n",
    "            while True:\n",
    "                slow2 = nums[slow2]\n",
    "                slow = nums[slow]\n",
    "                if slow == slow2:#second intersection point\n",
    "                    break\n",
    "                return slow    \n",
    "\n",
    "nums = [1,2,3,4,3]\n",
    "duplicate = findDuplicate(nums)\n",
    "print(duplicate)\n"
   ]
  },
  {
   "cell_type": "code",
   "execution_count": null,
   "metadata": {},
   "outputs": [],
   "source": [
    "#Merge K sorted List(Hard)\n"
   ]
  }
 ],
 "metadata": {
  "kernelspec": {
   "display_name": "Python 3",
   "language": "python",
   "name": "python3"
  },
  "language_info": {
   "codemirror_mode": {
    "name": "ipython",
    "version": 3
   },
   "file_extension": ".py",
   "mimetype": "text/x-python",
   "name": "python",
   "nbconvert_exporter": "python",
   "pygments_lexer": "ipython3",
   "version": "3.10.11"
  },
  "orig_nbformat": 4
 },
 "nbformat": 4,
 "nbformat_minor": 2
}
