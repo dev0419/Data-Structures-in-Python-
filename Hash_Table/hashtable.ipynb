{
 "cells": [
  {
   "cell_type": "markdown",
   "metadata": {},
   "source": [
    "Hashtable in python is equivalent to a dictionary"
   ]
  },
  {
   "cell_type": "code",
   "execution_count": 7,
   "metadata": {},
   "outputs": [
    {
     "name": "stdout",
     "output_type": "stream",
     "text": [
      "1400\n",
      "50\n",
      "None\n",
      "['bolts', 'washers']\n"
     ]
    }
   ],
   "source": [
    "class Hash:\n",
    "    def __init__(self,size=7):\n",
    "        self.data_map = [None]*size\n",
    "\n",
    "    def hash(self,key):\n",
    "        hash = 0\n",
    "        for letter in key: #ord gets the ascii value for each letter \n",
    "            hash = (hash + ord(letter) * 23) % len(self.data_map)\n",
    "        return hash\n",
    "    \n",
    "    def print_table(self):\n",
    "        for i,val in enumerate(self.data_map):\n",
    "            print(i, \": \",val)\n",
    "    \n",
    "    def set_item(self,key,value):\n",
    "        index = self.hash(key)\n",
    "        if self.data_map[index] == None:\n",
    "            self.data_map[index] = []\n",
    "        self.data_map[index].append([key,value])\n",
    "\n",
    "    def get_item(self,key):\n",
    "        index = self.hash(key)\n",
    "        if self.data_map[index] is not None:\n",
    "            for i in range(len(self.data_map[index])):\n",
    "                if self.data_map[index][i][0] == key:\n",
    "                    return self.data_map[index][i][1]\n",
    "        return None \n",
    "    \n",
    "    def print_keys(self):\n",
    "        all_keys = []\n",
    "        for i in range(len(self.data_map)):\n",
    "            if self.data_map[i] is not None:\n",
    "                for j in range(len(self.data_map[i])):\n",
    "                    all_keys.append(self.data_map[i][j][0])\n",
    "        return all_keys\n",
    "    \n",
    "hash = Hash()\n",
    "hash.set_item('bolts',1400)\n",
    "hash.set_item('washers',50)\n",
    "#hash.set_item('lumber',70)\n",
    "#hash.print_table()\n",
    "print(hash.get_item('bolts'))\n",
    "print(hash.get_item('washers'))\n",
    "print(hash.get_item('lumber'))\n",
    "print(hash.print_keys())"
   ]
  },
  {
   "cell_type": "code",
   "execution_count": 17,
   "metadata": {},
   "outputs": [
    {
     "name": "stdout",
     "output_type": "stream",
     "text": [
      "True\n"
     ]
    }
   ],
   "source": [
    "#l1: 1,3,5\n",
    "#l2: 2,4,5\n",
    "#Find the common item (brute force)\n",
    "list1 = [1,3,5]\n",
    "list2 = [2,4,5]\n",
    "for i in range(len(list1)):\n",
    "    for j in range(len(list2)):\n",
    "        if list1[i] == list2[j]:\n",
    "            print(True)\n",
    "        else:\n",
    "            False"
   ]
  },
  {
   "cell_type": "code",
   "execution_count": 31,
   "metadata": {},
   "outputs": [
    {
     "name": "stdout",
     "output_type": "stream",
     "text": [
      "0\n",
      "0\n",
      "1\n"
     ]
    }
   ],
   "source": [
    "#Find the common using hash table\n",
    "list1 = [1,3,5]\n",
    "list2 = [2,4,5]\n",
    "my_dict = {}\n",
    "for i in list1:\n",
    "    my_dict[i] = True \n",
    "for j in list2:\n",
    "    if j in my_dict:\n",
    "        print(1) \n",
    "    else:\n",
    "        print(0)\n",
    "\n"
   ]
  }
 ],
 "metadata": {
  "kernelspec": {
   "display_name": "Python 3",
   "language": "python",
   "name": "python3"
  },
  "language_info": {
   "codemirror_mode": {
    "name": "ipython",
    "version": 3
   },
   "file_extension": ".py",
   "mimetype": "text/x-python",
   "name": "python",
   "nbconvert_exporter": "python",
   "pygments_lexer": "ipython3",
   "version": "3.10.11"
  }
 },
 "nbformat": 4,
 "nbformat_minor": 2
}
